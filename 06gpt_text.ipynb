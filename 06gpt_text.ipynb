{
 "cells": [
  {
   "cell_type": "code",
   "execution_count": null,
   "id": "448d3139",
   "metadata": {},
   "outputs": [],
   "source": []
  },
  {
   "cell_type": "code",
   "execution_count": 7,
   "id": "6c3d0fd7",
   "metadata": {},
   "outputs": [
    {
     "name": "stdout",
     "output_type": "stream",
     "text": [
      "김해 롯데호텔은 김해국제공항에서 차로 약 10분 거리에 위치해 있습니다. 이 호텔은 고급스러운 시설과 서비스로 유명하며, 특히 오션뷰를 감상할 수 있는 객실이 인기입니다.\n",
      "\n",
      "호텔 주변에는 다양한 관광지가 있습니다. 김해 대피산 자연휴양림은 자연 속에서 힐링을 즐길 수 있는 곳이며, 김해 수로왕릉은 조선시대 왕릉으로 역사적인 가치가 있는 곳입니다. 또한 가야산국립공원은 트레킹 코스와 아름다운 풍경으로 유명합니다.\n",
      "\n",
      "김해 지역은 해산물 요리가 맛있는 곳으로도 유명합니다. 현지 식당에서 해산물을 맛보는 것을 추천드리며, 특히 김해 근처의 부산이 해산물 요리로 유명하기도 합니다.\n",
      "\n",
      "날씨는 김해 지역은 가을과 봄이 가장 좋은 시기로, 시원한 날씨에 여행하기 좋습니다.\n",
      "\n",
      "마지막으로, 김해 롯데호텔의 사우나 이용 시간은 호텔별로 상이할 수 있으니 호텔 프런트 데스크에 문의하시는 것을 권해드립니다.\n",
      "\n",
      "김해 여행을 즐기시고 편안한 여행되세요!\n"
     ]
    }
   ],
   "source": [
    "# openai key필요함\n",
    "from openai import OpenAI\n",
    "from dotenv import load_dotenv\n",
    "import os\n",
    "\n",
    "load_dotenv()\n",
    "\n",
    "client = OpenAI(\n",
    "    api_key = os.getenv('OPENAPI_API_KEY')\n",
    ")\n",
    "\n",
    "# response = client.responses.create(\n",
    "#     model=\"gpt-3.5-turbo\",\n",
    "#     # input=\"which hotel in Busan is the best for July\"\n",
    "#     # input=\"how about Lotte Hotel & Resort Gimhae?\"\n",
    "# )\n",
    "\n",
    "response = client.chat.completions.create(\n",
    "    model = 'gpt-3.5-turbo',\n",
    "    messages = [\n",
    "        {\n",
    "            'role':'system',\n",
    "            'content':(\n",
    "                '나는 여행가이드야, 친절하고 간결한 말투로 추천해줘' '관광지 이외에도 음식, 날씨' '가격' '사우나 이용시간'\n",
    "            )\n",
    "        },\n",
    "        {\n",
    "            'role':'user',\n",
    "            'content':'김해 롯테호텔에 대한 설명' '근처 관광지'\n",
    "        }\n",
    "    ]\n",
    ")\n",
    "\n",
    "# print(response.output_text)\n",
    "print(response.choices[0].message.content)\n"
   ]
  },
  {
   "cell_type": "code",
   "execution_count": null,
   "id": "12ce845f",
   "metadata": {},
   "outputs": [],
   "source": []
  },
  {
   "cell_type": "code",
   "execution_count": null,
   "id": "13e89c64",
   "metadata": {},
   "outputs": [],
   "source": []
  },
  {
   "cell_type": "code",
   "execution_count": null,
   "id": "d11f7087",
   "metadata": {},
   "outputs": [],
   "source": []
  },
  {
   "cell_type": "code",
   "execution_count": null,
   "id": "f367e9fa",
   "metadata": {},
   "outputs": [],
   "source": []
  },
  {
   "cell_type": "code",
   "execution_count": null,
   "id": "1d7d5725",
   "metadata": {},
   "outputs": [],
   "source": []
  },
  {
   "cell_type": "code",
   "execution_count": null,
   "id": "e254bcce",
   "metadata": {},
   "outputs": [],
   "source": []
  },
  {
   "cell_type": "code",
   "execution_count": null,
   "id": "1909b2f7",
   "metadata": {},
   "outputs": [],
   "source": []
  },
  {
   "cell_type": "code",
   "execution_count": null,
   "id": "2bcf1ec1",
   "metadata": {},
   "outputs": [],
   "source": []
  },
  {
   "cell_type": "code",
   "execution_count": null,
   "id": "152cb494",
   "metadata": {},
   "outputs": [],
   "source": []
  }
 ],
 "metadata": {
  "kernelspec": {
   "display_name": "01pythonvenv2",
   "language": "python",
   "name": "python3"
  },
  "language_info": {
   "codemirror_mode": {
    "name": "ipython",
    "version": 3
   },
   "file_extension": ".py",
   "mimetype": "text/x-python",
   "name": "python",
   "nbconvert_exporter": "python",
   "pygments_lexer": "ipython3",
   "version": "3.13.3"
  }
 },
 "nbformat": 4,
 "nbformat_minor": 5
}
