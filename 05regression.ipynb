{
 "cells": [
  {
   "cell_type": "code",
   "execution_count": null,
   "id": "c1e7d359",
   "metadata": {},
   "outputs": [],
   "source": [
    "# linear regression w/pandas\n",
    "\n",
    "#data using pandas\n",
    " # 달걀의 크기에 따른 닭의 체중 구하기\n",
    "# 종속변수 : 닭의 체중\n",
    "# 독립변수 : 달걀의 크기, 운동량, 음식\n",
    "\n",
    "from sklearn.model_selection import train_test_split\n",
    "from sklearn.linear_model import LinearRegression\n",
    "import pandas as pd"
   ]
  },
  {
   "cell_type": "code",
   "execution_count": null,
   "id": "06f5da5f",
   "metadata": {},
   "outputs": [
    {
     "data": {
      "text/html": [
       "<div>\n",
       "<style scoped>\n",
       "    .dataframe tbody tr th:only-of-type {\n",
       "        vertical-align: middle;\n",
       "    }\n",
       "\n",
       "    .dataframe tbody tr th {\n",
       "        vertical-align: top;\n",
       "    }\n",
       "\n",
       "    .dataframe thead th {\n",
       "        text-align: right;\n",
       "    }\n",
       "</style>\n",
       "<table border=\"1\" class=\"dataframe\">\n",
       "  <thead>\n",
       "    <tr style=\"text-align: right;\">\n",
       "      <th></th>\n",
       "      <th>chick_nm</th>\n",
       "      <th>weight</th>\n",
       "      <th>egg_weight</th>\n",
       "      <th>movement</th>\n",
       "      <th>food</th>\n",
       "    </tr>\n",
       "  </thead>\n",
       "  <tbody>\n",
       "    <tr>\n",
       "      <th>0</th>\n",
       "      <td>a01</td>\n",
       "      <td>140</td>\n",
       "      <td>65</td>\n",
       "      <td>146</td>\n",
       "      <td>14</td>\n",
       "    </tr>\n",
       "    <tr>\n",
       "      <th>1</th>\n",
       "      <td>a02</td>\n",
       "      <td>128</td>\n",
       "      <td>62</td>\n",
       "      <td>153</td>\n",
       "      <td>12</td>\n",
       "    </tr>\n",
       "    <tr>\n",
       "      <th>2</th>\n",
       "      <td>a03</td>\n",
       "      <td>140</td>\n",
       "      <td>65</td>\n",
       "      <td>118</td>\n",
       "      <td>13</td>\n",
       "    </tr>\n",
       "    <tr>\n",
       "      <th>3</th>\n",
       "      <td>a04</td>\n",
       "      <td>135</td>\n",
       "      <td>65</td>\n",
       "      <td>157</td>\n",
       "      <td>13</td>\n",
       "    </tr>\n",
       "    <tr>\n",
       "      <th>4</th>\n",
       "      <td>a05</td>\n",
       "      <td>145</td>\n",
       "      <td>69</td>\n",
       "      <td>157</td>\n",
       "      <td>13</td>\n",
       "    </tr>\n",
       "  </tbody>\n",
       "</table>\n",
       "</div>"
      ],
      "text/plain": [
       "  chick_nm  weight  egg_weight  movement  food\n",
       "0      a01     140          65       146    14\n",
       "1      a02     128          62       153    12\n",
       "2      a03     140          65       118    13\n",
       "3      a04     135          65       157    13\n",
       "4      a05     145          69       157    13"
      ]
     },
     "execution_count": 4,
     "metadata": {},
     "output_type": "execute_result"
    }
   ],
   "source": [
    "#dataFrame\n",
    "\n",
    "w = pd.read_csv('data/chick004.csv')\n",
    "w.head()"
   ]
  },
  {
   "cell_type": "code",
   "execution_count": 5,
   "id": "161c3b99",
   "metadata": {},
   "outputs": [
    {
     "name": "stdout",
     "output_type": "stream",
     "text": [
      "<class 'pandas.core.frame.DataFrame'>\n",
      "RangeIndex: 30 entries, 0 to 29\n",
      "Data columns (total 5 columns):\n",
      " #   Column      Non-Null Count  Dtype \n",
      "---  ------      --------------  ----- \n",
      " 0   chick_nm    30 non-null     object\n",
      " 1   weight      30 non-null     int64 \n",
      " 2   egg_weight  30 non-null     int64 \n",
      " 3   movement    30 non-null     int64 \n",
      " 4   food        30 non-null     int64 \n",
      "dtypes: int64(4), object(1)\n",
      "memory usage: 1.3+ KB\n"
     ]
    },
    {
     "data": {
      "text/html": [
       "<div>\n",
       "<style scoped>\n",
       "    .dataframe tbody tr th:only-of-type {\n",
       "        vertical-align: middle;\n",
       "    }\n",
       "\n",
       "    .dataframe tbody tr th {\n",
       "        vertical-align: top;\n",
       "    }\n",
       "\n",
       "    .dataframe thead th {\n",
       "        text-align: right;\n",
       "    }\n",
       "</style>\n",
       "<table border=\"1\" class=\"dataframe\">\n",
       "  <thead>\n",
       "    <tr style=\"text-align: right;\">\n",
       "      <th></th>\n",
       "      <th>weight</th>\n",
       "      <th>egg_weight</th>\n",
       "      <th>movement</th>\n",
       "      <th>food</th>\n",
       "    </tr>\n",
       "  </thead>\n",
       "  <tbody>\n",
       "    <tr>\n",
       "      <th>count</th>\n",
       "      <td>30.00000</td>\n",
       "      <td>30.000000</td>\n",
       "      <td>30.000000</td>\n",
       "      <td>30.000000</td>\n",
       "    </tr>\n",
       "    <tr>\n",
       "      <th>mean</th>\n",
       "      <td>137.60000</td>\n",
       "      <td>65.100000</td>\n",
       "      <td>137.666667</td>\n",
       "      <td>12.733333</td>\n",
       "    </tr>\n",
       "    <tr>\n",
       "      <th>std</th>\n",
       "      <td>6.97582</td>\n",
       "      <td>2.856933</td>\n",
       "      <td>20.800088</td>\n",
       "      <td>1.311312</td>\n",
       "    </tr>\n",
       "    <tr>\n",
       "      <th>min</th>\n",
       "      <td>125.00000</td>\n",
       "      <td>61.000000</td>\n",
       "      <td>102.000000</td>\n",
       "      <td>10.000000</td>\n",
       "    </tr>\n",
       "    <tr>\n",
       "      <th>25%</th>\n",
       "      <td>133.00000</td>\n",
       "      <td>62.250000</td>\n",
       "      <td>121.000000</td>\n",
       "      <td>12.000000</td>\n",
       "    </tr>\n",
       "    <tr>\n",
       "      <th>50%</th>\n",
       "      <td>138.00000</td>\n",
       "      <td>65.000000</td>\n",
       "      <td>138.000000</td>\n",
       "      <td>13.000000</td>\n",
       "    </tr>\n",
       "    <tr>\n",
       "      <th>75%</th>\n",
       "      <td>143.00000</td>\n",
       "      <td>67.000000</td>\n",
       "      <td>156.250000</td>\n",
       "      <td>13.000000</td>\n",
       "    </tr>\n",
       "    <tr>\n",
       "      <th>max</th>\n",
       "      <td>148.00000</td>\n",
       "      <td>70.000000</td>\n",
       "      <td>174.000000</td>\n",
       "      <td>15.000000</td>\n",
       "    </tr>\n",
       "  </tbody>\n",
       "</table>\n",
       "</div>"
      ],
      "text/plain": [
       "          weight  egg_weight    movement       food\n",
       "count   30.00000   30.000000   30.000000  30.000000\n",
       "mean   137.60000   65.100000  137.666667  12.733333\n",
       "std      6.97582    2.856933   20.800088   1.311312\n",
       "min    125.00000   61.000000  102.000000  10.000000\n",
       "25%    133.00000   62.250000  121.000000  12.000000\n",
       "50%    138.00000   65.000000  138.000000  13.000000\n",
       "75%    143.00000   67.000000  156.250000  13.000000\n",
       "max    148.00000   70.000000  174.000000  15.000000"
      ]
     },
     "execution_count": 5,
     "metadata": {},
     "output_type": "execute_result"
    }
   ],
   "source": [
    "w.info()\n",
    "w.describe()"
   ]
  },
  {
   "cell_type": "code",
   "execution_count": 10,
   "id": "62de9f75",
   "metadata": {},
   "outputs": [
    {
     "name": "stdout",
     "output_type": "stream",
     "text": [
      "(30, 1) (30,)\n",
      "(24, 1) (24,)\n",
      "(6, 1) (6,)\n"
     ]
    }
   ],
   "source": [
    "#preprocessing\n",
    "\n",
    "X = w[['egg_weight']]\n",
    "y = w['weight']\n",
    "\n",
    "print(X.shape,y.shape)\n",
    "\n",
    "X_train, X_test, y_train, y_test = train_test_split(X,y,test_size=0.2,random_state=40)\n",
    "\n",
    "print(X_train.shape,y_train.shape)\n",
    "print(X_test.shape,y_test.shape)"
   ]
  },
  {
   "cell_type": "code",
   "execution_count": 11,
   "id": "a09bd41e",
   "metadata": {},
   "outputs": [
    {
     "name": "stdout",
     "output_type": "stream",
     "text": [
      "[137.28813559 149.11016949 146.74576271 146.74576271 127.83050847\n",
      " 142.01694915]\n"
     ]
    }
   ],
   "source": [
    "#modeling\n",
    "model = LinearRegression()\n",
    "model.fit(X_train,y_train)\n",
    "\n",
    "y_pred = model.predict(X_test)\n",
    "print(y_pred)"
   ]
  },
  {
   "cell_type": "code",
   "execution_count": null,
   "id": "cbe6e6d4",
   "metadata": {},
   "outputs": [
    {
     "name": "stdout",
     "output_type": "stream",
     "text": [
      "[140 148 148 145 128 143]\n"
     ]
    }
   ],
   "source": [
    "print(y_test.values)"
   ]
  },
  {
   "cell_type": "code",
   "execution_count": 14,
   "id": "939da879",
   "metadata": {},
   "outputs": [
    {
     "name": "stdout",
     "output_type": "stream",
     "text": [
      "coef : [2.36440678]\n",
      "intercept : -16.39830508474583\n"
     ]
    }
   ],
   "source": [
    "coef = model.coef_\n",
    "intercept = model.intercept_\n",
    "print(f'coef : {coef}')\n",
    "print(f'intercept : {intercept}')"
   ]
  },
  {
   "cell_type": "code",
   "execution_count": 16,
   "id": "940d5449",
   "metadata": {},
   "outputs": [
    {
     "name": "stdout",
     "output_type": "stream",
     "text": [
      " accuracy of train set : 0.8938610996279455\n",
      " accuracy of test set : 0.9496361708239863\n"
     ]
    }
   ],
   "source": [
    "print(f' accuracy of train set : {model.score(X_train,y_train)}')\n",
    "print(f' accuracy of test set : {model.score(X_test,y_test)}')"
   ]
  },
  {
   "cell_type": "code",
   "execution_count": 17,
   "id": "23e6f808",
   "metadata": {},
   "outputs": [
    {
     "name": "stdout",
     "output_type": "stream",
     "text": [
      "(30, 2) (30,)\n",
      "(24, 2) (24,)\n",
      "(6, 2) (6,)\n"
     ]
    }
   ],
   "source": [
    "# multi regression\n",
    "\n",
    "#preprocessing\n",
    "\n",
    "X = w[['egg_weight','food']]\n",
    "y = w['weight']\n",
    "\n",
    "print(X.shape,y.shape)\n",
    "\n",
    "X_train, X_test, y_train, y_test = train_test_split(X,y,test_size=0.2,random_state=40)\n",
    "\n",
    "print(X_train.shape,y_train.shape)\n",
    "print(X_test.shape,y_test.shape)"
   ]
  },
  {
   "cell_type": "code",
   "execution_count": null,
   "id": "590c2e7a",
   "metadata": {},
   "outputs": [],
   "source": []
  },
  {
   "cell_type": "code",
   "execution_count": null,
   "id": "fb075686",
   "metadata": {},
   "outputs": [],
   "source": []
  },
  {
   "cell_type": "code",
   "execution_count": null,
   "id": "ee2adbc8",
   "metadata": {},
   "outputs": [],
   "source": []
  },
  {
   "cell_type": "code",
   "execution_count": null,
   "id": "a423a8f4",
   "metadata": {},
   "outputs": [],
   "source": []
  },
  {
   "cell_type": "code",
   "execution_count": null,
   "id": "f517fe28",
   "metadata": {},
   "outputs": [],
   "source": []
  }
 ],
 "metadata": {
  "kernelspec": {
   "display_name": "01pythonvenv2",
   "language": "python",
   "name": "python3"
  },
  "language_info": {
   "codemirror_mode": {
    "name": "ipython",
    "version": 3
   },
   "file_extension": ".py",
   "mimetype": "text/x-python",
   "name": "python",
   "nbconvert_exporter": "python",
   "pygments_lexer": "ipython3",
   "version": "3.13.3"
  }
 },
 "nbformat": 4,
 "nbformat_minor": 5
}
